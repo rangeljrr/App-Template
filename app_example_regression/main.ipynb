{
 "cells": [
  {
   "cell_type": "code",
   "execution_count": 2,
   "id": "89a7db1c-5b66-4fbf-b85d-6a301fbfdd47",
   "metadata": {
    "scrolled": true
   },
   "outputs": [],
   "source": [
    "# Install optuna if you haven't already\n",
    "# pip install optuna\n",
    "#%load_ext 2\n",
    "from utils.dataset import load_historical, load_live\n",
    "from utils.pipeline_random_forest import main as random_forest_main\n",
    "from utils.pipeline_xg_boost import main as xgboost_main\n",
    "from utils.pipeline_light_gbm import main as light_gbm_main\n",
    "from utils.pipeline_linear_regression import main as linear_regression_main\n",
    "from utils._config import run_parameters\n",
    "from utils.IO import save_to_json\n",
    "from utils.evaluate import create_feature_importance_plot\n",
    "from sklearn.model_selection import cross_val_score, StratifiedKFold\n",
    "from sklearn.metrics import accuracy_score\n",
    "from sklearn.ensemble import RandomForestClassifier\n",
    "\n",
    "import pandas as pd\n",
    "import os\n",
    "\n",
    "import warnings\n",
    "warnings.filterwarnings('ignore')\n",
    "\n",
    "# Load historical (training-like) dataset\n",
    "master_hist = load_historical()\n",
    "X_hist = master_hist.drop(columns={'target'})\n",
    "y_hist = master_hist['target']\n",
    "\n",
    "# Simulate live (test-like) dataset\n",
    "master_live = load_live()\n",
    "X_live = master_hist.drop(columns={'target'})\n",
    "y_live = master_live['target']\n",
    "\n",
    "# List of feature columns\n",
    "X_cols = master_live.drop(columns={'target'}).columns"
   ]
  },
  {
   "cell_type": "code",
   "execution_count": 5,
   "id": "cfd5d11e-5686-41b0-ab5b-24b39ae633d3",
   "metadata": {},
   "outputs": [
    {
     "name": "stdout",
     "output_type": "stream",
     "text": [
      "Warning: Model has no 'feature_importances_' attribute. Skipping plot.\n"
     ]
    }
   ],
   "source": [
    "def pull_folder_query(iteration, run_date_str, feature_set, model_name, period):\n",
    "    return f'model_results\\\\iteration={iteration}\\\\run_date={run_date_str}\\\\feature_set={feature_set}\\\\model={model_name}\\\\period={period}\\\\'\n",
    "\n",
    "\n",
    "def run_pipeline(model_name, master_live, pipeline_main_function):\n",
    "\n",
    "    iteration = run_parameters['development_iteration']\n",
    "    random_state = run_parameters['random_state']\n",
    "    n_splits = run_parameters['n_splits']\n",
    "    root = run_parameters['root']\n",
    "    feature_set = run_parameters['feature_set']\n",
    "    n_trials = run_parameters['n_trials']\n",
    "    \n",
    "    run_date = pd.Timestamp.now().date()\n",
    "    run_date_str = str(run_date).replace('-','')\n",
    "\n",
    "    period = 'train'\n",
    "    model_validation, best_params, fitted_model = pipeline_main_function(X_hist, y_hist)\n",
    "\n",
    "    folder_query = pull_folder_query(iteration, run_date_str, feature_set, model_name, period)\n",
    "    os.makedirs(root + folder_query, exist_ok=True)\n",
    "    save_to_json(best_params, root + folder_query + 'hyper_params.json')\n",
    "    create_feature_importance_plot(fitted_model, X_cols, root + folder_query + 'feature_importance.png')\n",
    "    model_validation.to_csv(root + folder_query + 'scores.csv', index=False)\n",
    "\n",
    "    period = 'live'\n",
    "    write_live_results = master_live.copy()\n",
    "    write_live_results['y_pred'] = fitted_model.predict(X_live)\n",
    "    write_live_results['run_type'] = 'production'\n",
    "\n",
    "    folder_query = pull_folder_query(iteration, run_date_str, feature_set, model_name, period)\n",
    "    os.makedirs(root + folder_query, exist_ok=True)\n",
    "    write_live_results.to_csv(root + folder_query + 'predictions.csv', index=False)\n",
    "\n",
    "\n",
    "def main():\n",
    "    \n",
    "    run_pipeline('linear_regression', master_live, linear_regression_main)\n",
    "    run_pipeline('random_forest', master_live, random_forest_main)\n",
    "    run_pipeline('xgboost', master_live, xgboost_main)\n",
    "    run_pipeline('light_gbm', master_live, light_gbm_main)\n",
    "  \n",
    "main()\n"
   ]
  },
  {
   "cell_type": "code",
   "execution_count": null,
   "id": "fae111d7-b81b-4ca9-ac56-b2637e74ac89",
   "metadata": {},
   "outputs": [],
   "source": []
  },
  {
   "cell_type": "code",
   "execution_count": null,
   "id": "8db5fc30-3f39-4191-a01f-782522073d92",
   "metadata": {},
   "outputs": [],
   "source": []
  }
 ],
 "metadata": {
  "kernelspec": {
   "display_name": "Python 3 (ipykernel)",
   "language": "python",
   "name": "python3"
  },
  "language_info": {
   "codemirror_mode": {
    "name": "ipython",
    "version": 3
   },
   "file_extension": ".py",
   "mimetype": "text/x-python",
   "name": "python",
   "nbconvert_exporter": "python",
   "pygments_lexer": "ipython3",
   "version": "3.12.7"
  }
 },
 "nbformat": 4,
 "nbformat_minor": 5
}
